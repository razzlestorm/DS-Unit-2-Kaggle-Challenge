{
  "nbformat": 4,
  "nbformat_minor": 0,
  "metadata": {
    "kernelspec": {
      "display_name": "Python 3",
      "language": "python",
      "name": "python3"
    },
    "language_info": {
      "codemirror_mode": {
        "name": "ipython",
        "version": 3
      },
      "file_extension": ".py",
      "mimetype": "text/x-python",
      "name": "python",
      "nbconvert_exporter": "python",
      "pygments_lexer": "ipython3",
      "version": "3.7.3"
    },
    "colab": {
      "name": "Jerimiah Willhite - assignment_kaggle_challenge_3.ipynb",
      "provenance": [],
      "collapsed_sections": [],
      "include_colab_link": true
    }
  },
  "cells": [
    {
      "cell_type": "markdown",
      "metadata": {
        "id": "view-in-github",
        "colab_type": "text"
      },
      "source": [
        "<a href=\"https://colab.research.google.com/github/razzlestorm/DS-Unit-2-Kaggle-Challenge/blob/master/module3/Jerimiah_Willhite_assignment_kaggle_challenge_3.ipynb\" target=\"_parent\"><img src=\"https://colab.research.google.com/assets/colab-badge.svg\" alt=\"Open In Colab\"/></a>"
      ]
    },
    {
      "cell_type": "markdown",
      "metadata": {
        "id": "5tQ3NiDRsAP0",
        "colab_type": "text"
      },
      "source": [
        "Lambda School Data Science, Unit 2: Predictive Modeling\n",
        "\n",
        "# Kaggle Challenge, Module 3\n",
        "\n",
        "\n",
        "## Assignment\n",
        "- [ ] [Review requirements for your portfolio project](https://lambdaschool.github.io/ds/unit2), then submit your dataset.\n",
        "- [ ] Continue to participate in our Kaggle challenge. \n",
        "- [ ] Use scikit-learn for hyperparameter optimization with RandomizedSearchCV.\n",
        "- [ ] Submit your predictions to our Kaggle competition. (Go to our Kaggle InClass competition webpage. Use the blue **Submit Predictions** button to upload your CSV file. Or you can use the Kaggle API to submit your predictions.)\n",
        "- [ ] Commit your notebook to your fork of the GitHub repo.\n",
        "\n",
        "## Stretch Goals\n",
        "\n",
        "### Reading\n",
        "- Jake VanderPlas, [Python Data Science Handbook, Chapter 5.3](https://jakevdp.github.io/PythonDataScienceHandbook/05.03-hyperparameters-and-model-validation.html), Hyperparameters and Model Validation\n",
        "- Jake VanderPlas, [Statistics for Hackers](https://speakerdeck.com/jakevdp/statistics-for-hackers?slide=107)\n",
        "- Ron Zacharski, [A Programmer's Guide to Data Mining, Chapter 5](http://guidetodatamining.com/chapter5/), 10-fold cross validation\n",
        "- Sebastian Raschka, [A Basic Pipeline and Grid Search Setup](https://github.com/rasbt/python-machine-learning-book/blob/master/code/bonus/svm_iris_pipeline_and_gridsearch.ipynb)\n",
        "- Peter Worcester, [A Comparison of Grid Search and Randomized Search Using Scikit Learn](https://blog.usejournal.com/a-comparison-of-grid-search-and-randomized-search-using-scikit-learn-29823179bc85)\n",
        "\n",
        "### Doing\n",
        "- In additon to `RandomizedSearchCV`, scikit-learn has [`GridSearchCV`](https://scikit-learn.org/stable/modules/generated/sklearn.model_selection.GridSearchCV.html). Another library called scikit-optimize has [`BayesSearchCV`](https://scikit-optimize.github.io/notebooks/sklearn-gridsearchcv-replacement.html). Experiment with these alternatives.\n",
        "- _[Introduction to Machine Learning with Python](http://shop.oreilly.com/product/0636920030515.do)_ discusses options for \"Grid-Searching Which Model To Use\" in Chapter 6:\n",
        "\n",
        "> You can even go further in combining GridSearchCV and Pipeline: it is also possible to search over the actual steps being performed in the pipeline (say whether to use StandardScaler or MinMaxScaler). This leads to an even bigger search space and should be considered carefully. Trying all possible solutions is usually not a viable machine learning strategy. However, here is an example comparing a RandomForestClassifier and an SVC ...\n",
        "\n",
        "The example is shown in [the accompanying notebook](https://github.com/amueller/introduction_to_ml_with_python/blob/master/06-algorithm-chains-and-pipelines.ipynb), code cells 35-37. Could you apply this concept to your own pipelines?\n"
      ]
    },
    {
      "cell_type": "markdown",
      "metadata": {
        "id": "AYYCV9CysAP6",
        "colab_type": "text"
      },
      "source": [
        "### More Categorical Encodings\n",
        "\n",
        "**1.** The article **[Categorical Features and Encoding in Decision Trees](https://medium.com/data-design/visiting-categorical-features-and-encoding-in-decision-trees-53400fa65931)** mentions 4 encodings:\n",
        "\n",
        "- **\"Categorical Encoding\":** This means using the raw categorical values as-is, not encoded. Scikit-learn doesn't support this, but some tree algorithm implementations do. For example, [Catboost](https://catboost.ai/), or R's [rpart](https://cran.r-project.org/web/packages/rpart/index.html) package.\n",
        "- **Numeric Encoding:** Synonymous with Label Encoding, or \"Ordinal\" Encoding with random order. We can use [category_encoders.OrdinalEncoder](https://contrib.scikit-learn.org/categorical-encoding/ordinal.html).\n",
        "- **One-Hot Encoding:** We can use [category_encoders.OneHotEncoder](http://contrib.scikit-learn.org/categorical-encoding/onehot.html).\n",
        "- **Binary Encoding:** We can use [category_encoders.BinaryEncoder](http://contrib.scikit-learn.org/categorical-encoding/binary.html).\n",
        "\n",
        "\n",
        "**2.** The short video \n",
        "**[Coursera — How to Win a Data Science Competition: Learn from Top Kagglers — Concept of mean encoding](https://www.coursera.org/lecture/competitive-data-science/concept-of-mean-encoding-b5Gxv)** introduces an interesting idea: use both X _and_ y to encode categoricals.\n",
        "\n",
        "Category Encoders has multiple implementations of this general concept:\n",
        "\n",
        "- [CatBoost Encoder](http://contrib.scikit-learn.org/categorical-encoding/catboost.html)\n",
        "- [James-Stein Encoder](http://contrib.scikit-learn.org/categorical-encoding/jamesstein.html)\n",
        "- [Leave One Out](http://contrib.scikit-learn.org/categorical-encoding/leaveoneout.html)\n",
        "- [M-estimate](http://contrib.scikit-learn.org/categorical-encoding/mestimate.html)\n",
        "- [Target Encoder](http://contrib.scikit-learn.org/categorical-encoding/targetencoder.html)\n",
        "- [Weight of Evidence](http://contrib.scikit-learn.org/categorical-encoding/woe.html)\n",
        "\n",
        "Category Encoder's mean encoding implementations work for regression problems or binary classification problems. \n",
        "\n",
        "For multi-class classification problems, you will need to temporarily reformulate it as binary classification. For example:\n",
        "\n",
        "```python\n",
        "encoder = ce.TargetEncoder(min_samples_leaf=..., smoothing=...) # Both parameters > 1 to avoid overfitting\n",
        "X_train_encoded = encoder.fit_transform(X_train, y_train=='functional')\n",
        "X_val_encoded = encoder.transform(X_train, y_val=='functional')\n",
        "```\n",
        "\n",
        "**3.** The **[dirty_cat](https://dirty-cat.github.io/stable/)** library has a Target Encoder implementation that works with multi-class classification.\n",
        "\n",
        "```python\n",
        " dirty_cat.TargetEncoder(clf_type='multiclass-clf')\n",
        "```\n",
        "It also implements an interesting idea called [\"Similarity Encoder\" for dirty categories](https://www.slideshare.net/GaelVaroquaux/machine-learning-on-non-curated-data-154905090).\n",
        "\n",
        "However, it seems like dirty_cat doesn't handle missing values or unknown categories as well as category_encoders does. And you may need to use it with one column at a time, instead of with your whole dataframe.\n",
        "\n",
        "**4. [Embeddings](https://www.kaggle.com/learn/embeddings)** can work well with sparse / high cardinality categoricals.\n",
        "\n",
        "_**I hope it’s not too frustrating or confusing that there’s not one “canonical” way to encode categorcals. It’s an active area of research and experimentation! Maybe you can make your own contributions!**_"
      ]
    },
    {
      "cell_type": "markdown",
      "metadata": {
        "id": "CkKesglisAP8",
        "colab_type": "text"
      },
      "source": [
        "### BONUS: Stacking!\n",
        "\n",
        "Here's some code you can use to \"stack\" multiple submissions, which is another form of ensembling:\n",
        "\n",
        "```python\n",
        "import pandas as pd\n",
        "\n",
        "# Filenames of your submissions you want to ensemble\n",
        "files = ['submission-01.csv', 'submission-02.csv', 'submission-03.csv']\n",
        "\n",
        "target = 'status_group'\n",
        "submissions = (pd.read_csv(file)[[target]] for file in files)\n",
        "ensemble = pd.concat(submissions, axis='columns')\n",
        "majority_vote = ensemble.mode(axis='columns')[0]\n",
        "\n",
        "sample_submission = pd.read_csv('sample_submission.csv')\n",
        "submission = sample_submission.copy()\n",
        "submission[target] = majority_vote\n",
        "submission.to_csv('my-ultimate-ensemble-submission.csv', index=False)\n",
        "```"
      ]
    },
    {
      "cell_type": "code",
      "metadata": {
        "id": "f2Q8GiWpsAP_",
        "colab_type": "code",
        "outputId": "642e59f3-e73e-4dde-8c0e-55cbf11e4bf1",
        "colab": {
          "base_uri": "https://localhost:8080/",
          "height": 1000
        }
      },
      "source": [
        "import os, sys\n",
        "in_colab = 'google.colab' in sys.modules\n",
        "\n",
        "# If you're in Colab...\n",
        "if in_colab:\n",
        "    # Pull files from Github repo\n",
        "    os.chdir('/content')\n",
        "    !git init .\n",
        "    !git remote add origin https://github.com/LambdaSchool/DS-Unit-2-Kaggle-Challenge.git\n",
        "    !git pull origin master\n",
        "    \n",
        "    # Install required python packages\n",
        "    !pip install -r requirements.txt\n",
        "    \n",
        "    # Change into directory for module\n",
        "    os.chdir('module3')"
      ],
      "execution_count": 17,
      "outputs": [
        {
          "output_type": "stream",
          "text": [
            "Reinitialized existing Git repository in /content/.git/\n",
            "fatal: remote origin already exists.\n",
            "From https://github.com/LambdaSchool/DS-Unit-2-Kaggle-Challenge\n",
            " * branch            master     -> FETCH_HEAD\n",
            "Already up to date.\n",
            "Requirement already satisfied: category_encoders==2.0.0 in /usr/local/lib/python3.6/dist-packages (from -r requirements.txt (line 1)) (2.0.0)\n",
            "Requirement already satisfied: eli5==0.10.1 in /usr/local/lib/python3.6/dist-packages (from -r requirements.txt (line 2)) (0.10.1)\n",
            "Requirement already satisfied: matplotlib!=3.1.1 in /usr/local/lib/python3.6/dist-packages (from -r requirements.txt (line 3)) (3.0.3)\n",
            "Requirement already satisfied: pandas-profiling==2.3.0 in /usr/local/lib/python3.6/dist-packages (from -r requirements.txt (line 4)) (2.3.0)\n",
            "Requirement already satisfied: pdpbox==0.2.0 in /usr/local/lib/python3.6/dist-packages (from -r requirements.txt (line 5)) (0.2.0)\n",
            "Requirement already satisfied: plotly==4.1.1 in /usr/local/lib/python3.6/dist-packages (from -r requirements.txt (line 6)) (4.1.1)\n",
            "Requirement already satisfied: seaborn==0.9.0 in /usr/local/lib/python3.6/dist-packages (from -r requirements.txt (line 7)) (0.9.0)\n",
            "Requirement already satisfied: scikit-learn==0.21.3 in /usr/local/lib/python3.6/dist-packages (from -r requirements.txt (line 8)) (0.21.3)\n",
            "Requirement already satisfied: shap==0.30.0 in /usr/local/lib/python3.6/dist-packages (from -r requirements.txt (line 9)) (0.30.0)\n",
            "Requirement already satisfied: xgboost==0.90 in /usr/local/lib/python3.6/dist-packages (from -r requirements.txt (line 10)) (0.90)\n",
            "Requirement already satisfied: numpy>=1.11.3 in /usr/local/lib/python3.6/dist-packages (from category_encoders==2.0.0->-r requirements.txt (line 1)) (1.16.5)\n",
            "Requirement already satisfied: scipy>=0.19.0 in /usr/local/lib/python3.6/dist-packages (from category_encoders==2.0.0->-r requirements.txt (line 1)) (1.3.1)\n",
            "Requirement already satisfied: patsy>=0.4.1 in /usr/local/lib/python3.6/dist-packages (from category_encoders==2.0.0->-r requirements.txt (line 1)) (0.5.1)\n",
            "Requirement already satisfied: pandas>=0.21.1 in /usr/local/lib/python3.6/dist-packages (from category_encoders==2.0.0->-r requirements.txt (line 1)) (0.24.2)\n",
            "Requirement already satisfied: statsmodels>=0.6.1 in /usr/local/lib/python3.6/dist-packages (from category_encoders==2.0.0->-r requirements.txt (line 1)) (0.10.1)\n",
            "Requirement already satisfied: attrs>16.0.0 in /usr/local/lib/python3.6/dist-packages (from eli5==0.10.1->-r requirements.txt (line 2)) (19.1.0)\n",
            "Requirement already satisfied: graphviz in /usr/local/lib/python3.6/dist-packages (from eli5==0.10.1->-r requirements.txt (line 2)) (0.10.1)\n",
            "Requirement already satisfied: six in /usr/local/lib/python3.6/dist-packages (from eli5==0.10.1->-r requirements.txt (line 2)) (1.12.0)\n",
            "Requirement already satisfied: jinja2 in /usr/local/lib/python3.6/dist-packages (from eli5==0.10.1->-r requirements.txt (line 2)) (2.10.1)\n",
            "Requirement already satisfied: tabulate>=0.7.7 in /usr/local/lib/python3.6/dist-packages (from eli5==0.10.1->-r requirements.txt (line 2)) (0.8.3)\n",
            "Requirement already satisfied: cycler>=0.10 in /usr/local/lib/python3.6/dist-packages (from matplotlib!=3.1.1->-r requirements.txt (line 3)) (0.10.0)\n",
            "Requirement already satisfied: python-dateutil>=2.1 in /usr/local/lib/python3.6/dist-packages (from matplotlib!=3.1.1->-r requirements.txt (line 3)) (2.5.3)\n",
            "Requirement already satisfied: pyparsing!=2.0.4,!=2.1.2,!=2.1.6,>=2.0.1 in /usr/local/lib/python3.6/dist-packages (from matplotlib!=3.1.1->-r requirements.txt (line 3)) (2.4.2)\n",
            "Requirement already satisfied: kiwisolver>=1.0.1 in /usr/local/lib/python3.6/dist-packages (from matplotlib!=3.1.1->-r requirements.txt (line 3)) (1.1.0)\n",
            "Requirement already satisfied: confuse>=1.0.0 in /usr/local/lib/python3.6/dist-packages (from pandas-profiling==2.3.0->-r requirements.txt (line 4)) (1.0.0)\n",
            "Requirement already satisfied: missingno>=0.4.2 in /usr/local/lib/python3.6/dist-packages (from pandas-profiling==2.3.0->-r requirements.txt (line 4)) (0.4.2)\n",
            "Requirement already satisfied: astropy in /usr/local/lib/python3.6/dist-packages (from pandas-profiling==2.3.0->-r requirements.txt (line 4)) (3.0.5)\n",
            "Requirement already satisfied: phik>=0.9.8 in /usr/local/lib/python3.6/dist-packages (from pandas-profiling==2.3.0->-r requirements.txt (line 4)) (0.9.8)\n",
            "Requirement already satisfied: htmlmin>=0.1.12 in /usr/local/lib/python3.6/dist-packages (from pandas-profiling==2.3.0->-r requirements.txt (line 4)) (0.1.12)\n",
            "Requirement already satisfied: psutil in /usr/local/lib/python3.6/dist-packages (from pdpbox==0.2.0->-r requirements.txt (line 5)) (5.4.8)\n",
            "Requirement already satisfied: joblib in /usr/local/lib/python3.6/dist-packages (from pdpbox==0.2.0->-r requirements.txt (line 5)) (0.13.2)\n",
            "Requirement already satisfied: retrying>=1.3.3 in /usr/local/lib/python3.6/dist-packages (from plotly==4.1.1->-r requirements.txt (line 6)) (1.3.3)\n",
            "Requirement already satisfied: ipython in /usr/local/lib/python3.6/dist-packages (from shap==0.30.0->-r requirements.txt (line 9)) (5.5.0)\n",
            "Requirement already satisfied: scikit-image in /usr/local/lib/python3.6/dist-packages (from shap==0.30.0->-r requirements.txt (line 9)) (0.15.0)\n",
            "Requirement already satisfied: tqdm>4.25.0 in /usr/local/lib/python3.6/dist-packages (from shap==0.30.0->-r requirements.txt (line 9)) (4.28.1)\n",
            "Requirement already satisfied: pytz>=2011k in /usr/local/lib/python3.6/dist-packages (from pandas>=0.21.1->category_encoders==2.0.0->-r requirements.txt (line 1)) (2018.9)\n",
            "Requirement already satisfied: MarkupSafe>=0.23 in /usr/local/lib/python3.6/dist-packages (from jinja2->eli5==0.10.1->-r requirements.txt (line 2)) (1.1.1)\n",
            "Requirement already satisfied: setuptools in /usr/local/lib/python3.6/dist-packages (from kiwisolver>=1.0.1->matplotlib!=3.1.1->-r requirements.txt (line 3)) (41.2.0)\n",
            "Requirement already satisfied: pyyaml in /usr/local/lib/python3.6/dist-packages (from confuse>=1.0.0->pandas-profiling==2.3.0->-r requirements.txt (line 4)) (3.13)\n",
            "Requirement already satisfied: nbconvert>=5.3.1 in /usr/local/lib/python3.6/dist-packages (from phik>=0.9.8->pandas-profiling==2.3.0->-r requirements.txt (line 4)) (5.6.0)\n",
            "Requirement already satisfied: jupyter-client>=5.2.3 in /usr/local/lib/python3.6/dist-packages (from phik>=0.9.8->pandas-profiling==2.3.0->-r requirements.txt (line 4)) (5.3.1)\n",
            "Requirement already satisfied: numba>=0.38.1 in /usr/local/lib/python3.6/dist-packages (from phik>=0.9.8->pandas-profiling==2.3.0->-r requirements.txt (line 4)) (0.40.1)\n",
            "Requirement already satisfied: pytest>=4.0.2 in /usr/local/lib/python3.6/dist-packages (from phik>=0.9.8->pandas-profiling==2.3.0->-r requirements.txt (line 4)) (5.1.3)\n",
            "Requirement already satisfied: pytest-pylint>=0.13.0 in /usr/local/lib/python3.6/dist-packages (from phik>=0.9.8->pandas-profiling==2.3.0->-r requirements.txt (line 4)) (0.14.1)\n",
            "Requirement already satisfied: decorator in /usr/local/lib/python3.6/dist-packages (from ipython->shap==0.30.0->-r requirements.txt (line 9)) (4.4.0)\n",
            "Requirement already satisfied: pickleshare in /usr/local/lib/python3.6/dist-packages (from ipython->shap==0.30.0->-r requirements.txt (line 9)) (0.7.5)\n",
            "Requirement already satisfied: pexpect; sys_platform != \"win32\" in /usr/local/lib/python3.6/dist-packages (from ipython->shap==0.30.0->-r requirements.txt (line 9)) (4.7.0)\n",
            "Requirement already satisfied: simplegeneric>0.8 in /usr/local/lib/python3.6/dist-packages (from ipython->shap==0.30.0->-r requirements.txt (line 9)) (0.8.1)\n",
            "Requirement already satisfied: traitlets>=4.2 in /usr/local/lib/python3.6/dist-packages (from ipython->shap==0.30.0->-r requirements.txt (line 9)) (4.3.2)\n",
            "Requirement already satisfied: pygments in /usr/local/lib/python3.6/dist-packages (from ipython->shap==0.30.0->-r requirements.txt (line 9)) (2.1.3)\n",
            "Requirement already satisfied: prompt-toolkit<2.0.0,>=1.0.4 in /usr/local/lib/python3.6/dist-packages (from ipython->shap==0.30.0->-r requirements.txt (line 9)) (1.0.16)\n",
            "Requirement already satisfied: imageio>=2.0.1 in /usr/local/lib/python3.6/dist-packages (from scikit-image->shap==0.30.0->-r requirements.txt (line 9)) (2.4.1)\n",
            "Requirement already satisfied: networkx>=2.0 in /usr/local/lib/python3.6/dist-packages (from scikit-image->shap==0.30.0->-r requirements.txt (line 9)) (2.3)\n",
            "Requirement already satisfied: pillow>=4.3.0 in /usr/local/lib/python3.6/dist-packages (from scikit-image->shap==0.30.0->-r requirements.txt (line 9)) (4.3.0)\n",
            "Requirement already satisfied: PyWavelets>=0.4.0 in /usr/local/lib/python3.6/dist-packages (from scikit-image->shap==0.30.0->-r requirements.txt (line 9)) (1.0.3)\n",
            "Requirement already satisfied: bleach in /usr/local/lib/python3.6/dist-packages (from nbconvert>=5.3.1->phik>=0.9.8->pandas-profiling==2.3.0->-r requirements.txt (line 4)) (3.1.0)\n",
            "Requirement already satisfied: entrypoints>=0.2.2 in /usr/local/lib/python3.6/dist-packages (from nbconvert>=5.3.1->phik>=0.9.8->pandas-profiling==2.3.0->-r requirements.txt (line 4)) (0.3)\n",
            "Requirement already satisfied: pandocfilters>=1.4.1 in /usr/local/lib/python3.6/dist-packages (from nbconvert>=5.3.1->phik>=0.9.8->pandas-profiling==2.3.0->-r requirements.txt (line 4)) (1.4.2)\n",
            "Requirement already satisfied: jupyter-core in /usr/local/lib/python3.6/dist-packages (from nbconvert>=5.3.1->phik>=0.9.8->pandas-profiling==2.3.0->-r requirements.txt (line 4)) (4.5.0)\n",
            "Requirement already satisfied: mistune<2,>=0.8.1 in /usr/local/lib/python3.6/dist-packages (from nbconvert>=5.3.1->phik>=0.9.8->pandas-profiling==2.3.0->-r requirements.txt (line 4)) (0.8.4)\n",
            "Requirement already satisfied: defusedxml in /usr/local/lib/python3.6/dist-packages (from nbconvert>=5.3.1->phik>=0.9.8->pandas-profiling==2.3.0->-r requirements.txt (line 4)) (0.6.0)\n",
            "Requirement already satisfied: nbformat>=4.4 in /usr/local/lib/python3.6/dist-packages (from nbconvert>=5.3.1->phik>=0.9.8->pandas-profiling==2.3.0->-r requirements.txt (line 4)) (4.4.0)\n",
            "Requirement already satisfied: testpath in /usr/local/lib/python3.6/dist-packages (from nbconvert>=5.3.1->phik>=0.9.8->pandas-profiling==2.3.0->-r requirements.txt (line 4)) (0.4.2)\n",
            "Requirement already satisfied: pyzmq>=13 in /usr/local/lib/python3.6/dist-packages (from jupyter-client>=5.2.3->phik>=0.9.8->pandas-profiling==2.3.0->-r requirements.txt (line 4)) (17.0.0)\n",
            "Requirement already satisfied: tornado>=4.1 in /usr/local/lib/python3.6/dist-packages (from jupyter-client>=5.2.3->phik>=0.9.8->pandas-profiling==2.3.0->-r requirements.txt (line 4)) (4.5.3)\n",
            "Requirement already satisfied: llvmlite>=0.25.0dev0 in /usr/local/lib/python3.6/dist-packages (from numba>=0.38.1->phik>=0.9.8->pandas-profiling==2.3.0->-r requirements.txt (line 4)) (0.29.0)\n",
            "Requirement already satisfied: py>=1.5.0 in /usr/local/lib/python3.6/dist-packages (from pytest>=4.0.2->phik>=0.9.8->pandas-profiling==2.3.0->-r requirements.txt (line 4)) (1.8.0)\n",
            "Requirement already satisfied: importlib-metadata>=0.12; python_version < \"3.8\" in /usr/local/lib/python3.6/dist-packages (from pytest>=4.0.2->phik>=0.9.8->pandas-profiling==2.3.0->-r requirements.txt (line 4)) (0.23)\n",
            "Requirement already satisfied: wcwidth in /usr/local/lib/python3.6/dist-packages (from pytest>=4.0.2->phik>=0.9.8->pandas-profiling==2.3.0->-r requirements.txt (line 4)) (0.1.7)\n",
            "Requirement already satisfied: pluggy<1.0,>=0.12 in /usr/local/lib/python3.6/dist-packages (from pytest>=4.0.2->phik>=0.9.8->pandas-profiling==2.3.0->-r requirements.txt (line 4)) (0.13.0)\n",
            "Requirement already satisfied: atomicwrites>=1.0 in /usr/local/lib/python3.6/dist-packages (from pytest>=4.0.2->phik>=0.9.8->pandas-profiling==2.3.0->-r requirements.txt (line 4)) (1.3.0)\n",
            "Requirement already satisfied: packaging in /usr/local/lib/python3.6/dist-packages (from pytest>=4.0.2->phik>=0.9.8->pandas-profiling==2.3.0->-r requirements.txt (line 4)) (19.1)\n",
            "Requirement already satisfied: more-itertools>=4.0.0 in /usr/local/lib/python3.6/dist-packages (from pytest>=4.0.2->phik>=0.9.8->pandas-profiling==2.3.0->-r requirements.txt (line 4)) (7.2.0)\n",
            "Requirement already satisfied: pylint>=1.4.5 in /usr/local/lib/python3.6/dist-packages (from pytest-pylint>=0.13.0->phik>=0.9.8->pandas-profiling==2.3.0->-r requirements.txt (line 4)) (2.4.1)\n",
            "Requirement already satisfied: ptyprocess>=0.5 in /usr/local/lib/python3.6/dist-packages (from pexpect; sys_platform != \"win32\"->ipython->shap==0.30.0->-r requirements.txt (line 9)) (0.6.0)\n",
            "Requirement already satisfied: ipython-genutils in /usr/local/lib/python3.6/dist-packages (from traitlets>=4.2->ipython->shap==0.30.0->-r requirements.txt (line 9)) (0.2.0)\n",
            "Requirement already satisfied: olefile in /usr/local/lib/python3.6/dist-packages (from pillow>=4.3.0->scikit-image->shap==0.30.0->-r requirements.txt (line 9)) (0.46)\n",
            "Requirement already satisfied: webencodings in /usr/local/lib/python3.6/dist-packages (from bleach->nbconvert>=5.3.1->phik>=0.9.8->pandas-profiling==2.3.0->-r requirements.txt (line 4)) (0.5.1)\n",
            "Requirement already satisfied: jsonschema!=2.5.0,>=2.4 in /usr/local/lib/python3.6/dist-packages (from nbformat>=4.4->nbconvert>=5.3.1->phik>=0.9.8->pandas-profiling==2.3.0->-r requirements.txt (line 4)) (2.6.0)\n",
            "Requirement already satisfied: zipp>=0.5 in /usr/local/lib/python3.6/dist-packages (from importlib-metadata>=0.12; python_version < \"3.8\"->pytest>=4.0.2->phik>=0.9.8->pandas-profiling==2.3.0->-r requirements.txt (line 4)) (0.6.0)\n",
            "Requirement already satisfied: astroid<3,>=2.3.0 in /usr/local/lib/python3.6/dist-packages (from pylint>=1.4.5->pytest-pylint>=0.13.0->phik>=0.9.8->pandas-profiling==2.3.0->-r requirements.txt (line 4)) (2.3.0)\n",
            "Requirement already satisfied: isort<5,>=4.2.5 in /usr/local/lib/python3.6/dist-packages (from pylint>=1.4.5->pytest-pylint>=0.13.0->phik>=0.9.8->pandas-profiling==2.3.0->-r requirements.txt (line 4)) (4.3.21)\n",
            "Requirement already satisfied: mccabe<0.7,>=0.6 in /usr/local/lib/python3.6/dist-packages (from pylint>=1.4.5->pytest-pylint>=0.13.0->phik>=0.9.8->pandas-profiling==2.3.0->-r requirements.txt (line 4)) (0.6.1)\n",
            "Requirement already satisfied: lazy-object-proxy in /usr/local/lib/python3.6/dist-packages (from astroid<3,>=2.3.0->pylint>=1.4.5->pytest-pylint>=0.13.0->phik>=0.9.8->pandas-profiling==2.3.0->-r requirements.txt (line 4)) (1.4.2)\n",
            "Requirement already satisfied: wrapt in /usr/local/lib/python3.6/dist-packages (from astroid<3,>=2.3.0->pylint>=1.4.5->pytest-pylint>=0.13.0->phik>=0.9.8->pandas-profiling==2.3.0->-r requirements.txt (line 4)) (1.11.2)\n",
            "Requirement already satisfied: typed-ast<1.3.0; implementation_name == \"cpython\" and python_version < \"3.7\" in /usr/local/lib/python3.6/dist-packages (from astroid<3,>=2.3.0->pylint>=1.4.5->pytest-pylint>=0.13.0->phik>=0.9.8->pandas-profiling==2.3.0->-r requirements.txt (line 4)) (1.2.0)\n"
          ],
          "name": "stdout"
        }
      ]
    },
    {
      "cell_type": "code",
      "metadata": {
        "id": "hOiGAlMlsAQJ",
        "colab_type": "code",
        "outputId": "001f994e-457a-4193-bfe3-4662baa00685",
        "colab": {
          "base_uri": "https://localhost:8080/",
          "height": 35
        }
      },
      "source": [
        "import pandas as pd\n",
        "from sklearn.model_selection import train_test_split\n",
        "\n",
        "# Merge train_features.csv & train_labels.csv\n",
        "train = pd.merge(pd.read_csv('../data/tanzania/train_features.csv'), \n",
        "                 pd.read_csv('../data/tanzania/train_labels.csv'))\n",
        "\n",
        "# Read test_features.csv & sample_submission.csv\n",
        "test = pd.read_csv('../data/tanzania/test_features.csv')\n",
        "sample_submission = pd.read_csv('../data/tanzania/sample_submission.csv')\n",
        "print(train.shape, test.shape)"
      ],
      "execution_count": 18,
      "outputs": [
        {
          "output_type": "stream",
          "text": [
            "(59400, 41) (14358, 40)\n"
          ],
          "name": "stdout"
        }
      ]
    },
    {
      "cell_type": "code",
      "metadata": {
        "id": "seLvhlwAtJC5",
        "colab_type": "code",
        "colab": {}
      },
      "source": [
        "# Use scikit-learn for hyperparameter optimization with RandomizedSearchCV.\n",
        "#Submit your predictions to our Kaggle competition. (Go to our Kaggle InClass competition webpage. Use the blue Submit Predictions button to upload your CSV file. Or you can use the Kaggle API to submit your predictions.)\n",
        "#Commit your notebook to your fork of the GitHub repo.\n",
        "train, val = train_test_split(train, train_size=0.80, test_size=0.20, \n",
        "                              stratify=train['status_group'], random_state=42)"
      ],
      "execution_count": 0,
      "outputs": []
    },
    {
      "cell_type": "code",
      "metadata": {
        "id": "hhjqR5I9tr5e",
        "colab_type": "code",
        "colab": {}
      },
      "source": [
        "import numpy as np\n",
        "\n",
        "\n",
        "def wrangle(X):\n",
        "    \"\"\"Wrangle train, validate, and test sets in the same way\"\"\"\n",
        "    \n",
        "    # Prevent SettingWithCopyWarning\n",
        "    X = X.copy()\n",
        "    \n",
        "    # About 3% of the time, latitude has small values near zero,\n",
        "    # outside Tanzania, so we'll treat these values like zero.\n",
        "    X['latitude'] = X['latitude'].replace(-2e-08, 0)\n",
        "    \n",
        "    # When columns have zeros and shouldn't, they are like null values.\n",
        "    # So we will replace the zeros with nulls, and impute missing values later.\n",
        "    # Also create a \"missing indicator\" column, because the fact that\n",
        "    # values are missing may be a predictive signal.\n",
        "    cols_with_zeros = ['longitude', 'latitude', 'construction_year', \n",
        "                       'gps_height', 'population']\n",
        "    for col in cols_with_zeros:\n",
        "        X[col] = X[col].replace(0, np.nan)\n",
        "        X[col+'_MISSING'] = X[col].isnull()\n",
        "            \n",
        "    # Drop duplicate columns\n",
        "    duplicates = ['quantity_group', 'payment_type']\n",
        "    X = X.drop(columns=duplicates)\n",
        "    \n",
        "    # Drop recorded_by (never varies) and id (always varies, random)\n",
        "    unusable_variance = ['recorded_by', 'id']\n",
        "    X = X.drop(columns=unusable_variance)\n",
        "    \n",
        "    # Convert date_recorded to datetime\n",
        "    X['date_recorded'] = pd.to_datetime(X['date_recorded'], infer_datetime_format=True)\n",
        "    \n",
        "    # Extract components from date_recorded, then drop the original column\n",
        "    X['year_recorded'] = X['date_recorded'].dt.year\n",
        "    X['month_recorded'] = X['date_recorded'].dt.month\n",
        "    X['day_recorded'] = X['date_recorded'].dt.day\n",
        "    X = X.drop(columns='date_recorded')\n",
        "    \n",
        "    # Engineer feature: how many years from construction_year to date_recorded\n",
        "    X['years'] = X['year_recorded'] - X['construction_year']\n",
        "    X['years_MISSING'] = X['years'].isnull()\n",
        "    \n",
        "    # return the wrangled dataframe\n",
        "    return X\n",
        "\n",
        "train = wrangle(train)\n",
        "val = wrangle(val)\n",
        "test = wrangle(test)"
      ],
      "execution_count": 0,
      "outputs": []
    },
    {
      "cell_type": "code",
      "metadata": {
        "id": "3kTuMv30Z0P0",
        "colab_type": "code",
        "colab": {}
      },
      "source": [
        "target='status_group'\n",
        "features = train.columns.drop(target)\n",
        "X_train = train[features]\n",
        "y_train = train[target]\n",
        "X_val = val[features]\n",
        "y_val = val[target]\n",
        "X_test = test[features]"
      ],
      "execution_count": 0,
      "outputs": []
    },
    {
      "cell_type": "code",
      "metadata": {
        "id": "DtyT-ftqtyG5",
        "colab_type": "code",
        "colab": {}
      },
      "source": [
        "#hand-picked categorical features, can comment or not\n",
        "# categorical_features = ['public_meeting', 'management',\n",
        "#                         'scheme_management', 'payment', 'quantity', 'extraction_type',\n",
        "#                         'payment_type', 'waterpoint_type', 'extraction_type_class', 'water_quality',\n",
        "#                         'source_class', 'source_type', 'basin', 'region', 'permit']"
      ],
      "execution_count": 0,
      "outputs": []
    },
    {
      "cell_type": "code",
      "metadata": {
        "id": "JpqLmbMkt2b3",
        "colab_type": "code",
        "outputId": "b245dd93-6e54-44f4-d5f6-93bd619e4215",
        "colab": {
          "base_uri": "https://localhost:8080/",
          "height": 165
        }
      },
      "source": [
        "#let's make some pipelines!\n",
        "import category_encoders as ce\n",
        "from scipy.stats import uniform\n",
        "from sklearn.ensemble import RandomForestClassifier\n",
        "from sklearn.impute import SimpleImputer\n",
        "from sklearn.model_selection import RandomizedSearchCV\n",
        "from sklearn.pipeline import make_pipeline\n",
        "\n",
        "pipeline = make_pipeline(\n",
        "    ce.OrdinalEncoder(),\n",
        "    SimpleImputer(),\n",
        "    RandomForestClassifier(random_state=42)\n",
        ")\n",
        "\n",
        "param_distributions = {\n",
        "    'randomforestclassifier__n_estimators': range(50,500),\n",
        "    'randomforestclassifier__max_depth': [5, 10, 15, 20, 25, None],\n",
        "    'randomforestclassifier__max_features': uniform(0,1),\n",
        "    'randomforestclassifier__min_samples_leaf': [1, 10, 100],\n",
        "    'randomforestclassifier__min_weight_fraction_leaf': [0.1, 0.3, 0.5]\n",
        "}\n",
        "\n",
        "search = RandomizedSearchCV(\n",
        "    pipeline,\n",
        "    param_distributions = param_distributions,\n",
        "    n_iter=10,\n",
        "    cv=3,\n",
        "    scoring='accuracy',\n",
        "    verbose=10,\n",
        "    return_train_score=True,\n",
        "    n_jobs=-1\n",
        ")\n",
        "\n",
        "search.fit(X_train, y_train);"
      ],
      "execution_count": 26,
      "outputs": [
        {
          "output_type": "stream",
          "text": [
            "Fitting 3 folds for each of 10 candidates, totalling 30 fits\n"
          ],
          "name": "stdout"
        },
        {
          "output_type": "stream",
          "text": [
            "[Parallel(n_jobs=-1)]: Using backend LokyBackend with 2 concurrent workers.\n",
            "[Parallel(n_jobs=-1)]: Done   1 tasks      | elapsed:  1.1min\n",
            "[Parallel(n_jobs=-1)]: Done   4 tasks      | elapsed:  1.7min\n",
            "[Parallel(n_jobs=-1)]: Done   9 tasks      | elapsed:  2.4min\n",
            "[Parallel(n_jobs=-1)]: Done  14 tasks      | elapsed:  4.2min\n",
            "[Parallel(n_jobs=-1)]: Done  21 tasks      | elapsed:  4.7min\n",
            "[Parallel(n_jobs=-1)]: Done  30 out of  30 | elapsed:  5.5min finished\n"
          ],
          "name": "stderr"
        }
      ]
    },
    {
      "cell_type": "code",
      "metadata": {
        "id": "sNf-7LXcpv0Q",
        "colab_type": "code",
        "colab": {
          "base_uri": "https://localhost:8080/",
          "height": 74
        },
        "outputId": "ef22786c-6ffa-4e5e-ba21-94f6a1c4df10"
      },
      "source": [
        "#Documentation: https://scikit-learn.org/stable/modules/generated/sklearn.model_selection.RandomizedSearchCV.html\n",
        "print('Best hyperparameters', search.best_params_)\n",
        "print('Cross-validation Accuracy', search.best_score_)"
      ],
      "execution_count": 27,
      "outputs": [
        {
          "output_type": "stream",
          "text": [
            "Best hyperparameters {'randomforestclassifier__max_depth': 15, 'randomforestclassifier__max_features': 0.3728967411913001, 'randomforestclassifier__min_samples_leaf': 100, 'randomforestclassifier__min_weight_fraction_leaf': 0.1, 'randomforestclassifier__n_estimators': 93}\n",
            "Cross-validation Accuracy 0.6900042087542088\n"
          ],
          "name": "stdout"
        }
      ]
    },
    {
      "cell_type": "code",
      "metadata": {
        "id": "TWdxFF0DqBNX",
        "colab_type": "code",
        "colab": {
          "base_uri": "https://localhost:8080/",
          "height": 745
        },
        "outputId": "672bba86-6805-4fcc-f1b8-2703b6985e9b"
      },
      "source": [
        "pd.DataFrame(search.cv_results_).sort_values(by='rank_test_score').T"
      ],
      "execution_count": 28,
      "outputs": [
        {
          "output_type": "execute_result",
          "data": {
            "text/html": [
              "<div>\n",
              "<style scoped>\n",
              "    .dataframe tbody tr th:only-of-type {\n",
              "        vertical-align: middle;\n",
              "    }\n",
              "\n",
              "    .dataframe tbody tr th {\n",
              "        vertical-align: top;\n",
              "    }\n",
              "\n",
              "    .dataframe thead th {\n",
              "        text-align: right;\n",
              "    }\n",
              "</style>\n",
              "<table border=\"1\" class=\"dataframe\">\n",
              "  <thead>\n",
              "    <tr style=\"text-align: right;\">\n",
              "      <th></th>\n",
              "      <th>9</th>\n",
              "      <th>3</th>\n",
              "      <th>7</th>\n",
              "      <th>0</th>\n",
              "      <th>1</th>\n",
              "      <th>2</th>\n",
              "      <th>8</th>\n",
              "      <th>5</th>\n",
              "      <th>4</th>\n",
              "      <th>6</th>\n",
              "    </tr>\n",
              "  </thead>\n",
              "  <tbody>\n",
              "    <tr>\n",
              "      <th>mean_fit_time</th>\n",
              "      <td>5.89822</td>\n",
              "      <td>54.293</td>\n",
              "      <td>12.051</td>\n",
              "      <td>61.358</td>\n",
              "      <td>14.4415</td>\n",
              "      <td>11.4564</td>\n",
              "      <td>8.18442</td>\n",
              "      <td>4.64813</td>\n",
              "      <td>15.8644</td>\n",
              "      <td>7.99429</td>\n",
              "    </tr>\n",
              "    <tr>\n",
              "      <th>std_fit_time</th>\n",
              "      <td>1.18842</td>\n",
              "      <td>2.00865</td>\n",
              "      <td>0.341377</td>\n",
              "      <td>2.13562</td>\n",
              "      <td>1.69801</td>\n",
              "      <td>1.22033</td>\n",
              "      <td>0.557903</td>\n",
              "      <td>0.0174481</td>\n",
              "      <td>0.0458156</td>\n",
              "      <td>0.0157346</td>\n",
              "    </tr>\n",
              "    <tr>\n",
              "      <th>mean_score_time</th>\n",
              "      <td>0.369586</td>\n",
              "      <td>1.04582</td>\n",
              "      <td>0.412038</td>\n",
              "      <td>1.05143</td>\n",
              "      <td>0.61343</td>\n",
              "      <td>0.561502</td>\n",
              "      <td>0.517591</td>\n",
              "      <td>0.463258</td>\n",
              "      <td>0.729281</td>\n",
              "      <td>0.605027</td>\n",
              "    </tr>\n",
              "    <tr>\n",
              "      <th>std_score_time</th>\n",
              "      <td>0.071645</td>\n",
              "      <td>0.0850999</td>\n",
              "      <td>0.00654391</td>\n",
              "      <td>0.00610373</td>\n",
              "      <td>0.0102062</td>\n",
              "      <td>0.0180745</td>\n",
              "      <td>0.00720178</td>\n",
              "      <td>0.020163</td>\n",
              "      <td>0.0125618</td>\n",
              "      <td>0.0112385</td>\n",
              "    </tr>\n",
              "    <tr>\n",
              "      <th>param_randomforestclassifier__max_depth</th>\n",
              "      <td>15</td>\n",
              "      <td>15</td>\n",
              "      <td>None</td>\n",
              "      <td>5</td>\n",
              "      <td>20</td>\n",
              "      <td>5</td>\n",
              "      <td>10</td>\n",
              "      <td>25</td>\n",
              "      <td>None</td>\n",
              "      <td>15</td>\n",
              "    </tr>\n",
              "    <tr>\n",
              "      <th>param_randomforestclassifier__max_features</th>\n",
              "      <td>0.372897</td>\n",
              "      <td>0.749497</td>\n",
              "      <td>0.783063</td>\n",
              "      <td>0.797185</td>\n",
              "      <td>0.739216</td>\n",
              "      <td>0.72861</td>\n",
              "      <td>0.539213</td>\n",
              "      <td>0.348941</td>\n",
              "      <td>0.767817</td>\n",
              "      <td>0.438976</td>\n",
              "    </tr>\n",
              "    <tr>\n",
              "      <th>param_randomforestclassifier__min_samples_leaf</th>\n",
              "      <td>100</td>\n",
              "      <td>10</td>\n",
              "      <td>10</td>\n",
              "      <td>1</td>\n",
              "      <td>1</td>\n",
              "      <td>1</td>\n",
              "      <td>10</td>\n",
              "      <td>10</td>\n",
              "      <td>1</td>\n",
              "      <td>1</td>\n",
              "    </tr>\n",
              "    <tr>\n",
              "      <th>param_randomforestclassifier__min_weight_fraction_leaf</th>\n",
              "      <td>0.1</td>\n",
              "      <td>0.1</td>\n",
              "      <td>0.1</td>\n",
              "      <td>0.1</td>\n",
              "      <td>0.3</td>\n",
              "      <td>0.3</td>\n",
              "      <td>0.3</td>\n",
              "      <td>0.3</td>\n",
              "      <td>0.5</td>\n",
              "      <td>0.5</td>\n",
              "    </tr>\n",
              "    <tr>\n",
              "      <th>param_randomforestclassifier__n_estimators</th>\n",
              "      <td>93</td>\n",
              "      <td>451</td>\n",
              "      <td>86</td>\n",
              "      <td>488</td>\n",
              "      <td>261</td>\n",
              "      <td>207</td>\n",
              "      <td>183</td>\n",
              "      <td>132</td>\n",
              "      <td>402</td>\n",
              "      <td>295</td>\n",
              "    </tr>\n",
              "    <tr>\n",
              "      <th>params</th>\n",
              "      <td>{'randomforestclassifier__max_depth': 15, 'ran...</td>\n",
              "      <td>{'randomforestclassifier__max_depth': 15, 'ran...</td>\n",
              "      <td>{'randomforestclassifier__max_depth': None, 'r...</td>\n",
              "      <td>{'randomforestclassifier__max_depth': 5, 'rand...</td>\n",
              "      <td>{'randomforestclassifier__max_depth': 20, 'ran...</td>\n",
              "      <td>{'randomforestclassifier__max_depth': 5, 'rand...</td>\n",
              "      <td>{'randomforestclassifier__max_depth': 10, 'ran...</td>\n",
              "      <td>{'randomforestclassifier__max_depth': 25, 'ran...</td>\n",
              "      <td>{'randomforestclassifier__max_depth': None, 'r...</td>\n",
              "      <td>{'randomforestclassifier__max_depth': 15, 'ran...</td>\n",
              "    </tr>\n",
              "    <tr>\n",
              "      <th>split0_test_score</th>\n",
              "      <td>0.704961</td>\n",
              "      <td>0.702878</td>\n",
              "      <td>0.705214</td>\n",
              "      <td>0.701363</td>\n",
              "      <td>0.595821</td>\n",
              "      <td>0.590961</td>\n",
              "      <td>0.589698</td>\n",
              "      <td>0.575432</td>\n",
              "      <td>0.54305</td>\n",
              "      <td>0.54305</td>\n",
              "    </tr>\n",
              "    <tr>\n",
              "      <th>split1_test_score</th>\n",
              "      <td>0.685397</td>\n",
              "      <td>0.676179</td>\n",
              "      <td>0.672454</td>\n",
              "      <td>0.671633</td>\n",
              "      <td>0.581413</td>\n",
              "      <td>0.578824</td>\n",
              "      <td>0.578256</td>\n",
              "      <td>0.570049</td>\n",
              "      <td>0.54309</td>\n",
              "      <td>0.54309</td>\n",
              "    </tr>\n",
              "    <tr>\n",
              "      <th>split2_test_score</th>\n",
              "      <td>0.679651</td>\n",
              "      <td>0.663805</td>\n",
              "      <td>0.663552</td>\n",
              "      <td>0.663552</td>\n",
              "      <td>0.587537</td>\n",
              "      <td>0.583118</td>\n",
              "      <td>0.584949</td>\n",
              "      <td>0.570554</td>\n",
              "      <td>0.54309</td>\n",
              "      <td>0.54309</td>\n",
              "    </tr>\n",
              "    <tr>\n",
              "      <th>mean_test_score</th>\n",
              "      <td>0.690004</td>\n",
              "      <td>0.680955</td>\n",
              "      <td>0.680408</td>\n",
              "      <td>0.678851</td>\n",
              "      <td>0.588258</td>\n",
              "      <td>0.584301</td>\n",
              "      <td>0.584301</td>\n",
              "      <td>0.572012</td>\n",
              "      <td>0.543077</td>\n",
              "      <td>0.543077</td>\n",
              "    </tr>\n",
              "    <tr>\n",
              "      <th>std_test_score</th>\n",
              "      <td>0.0108343</td>\n",
              "      <td>0.0163057</td>\n",
              "      <td>0.0179145</td>\n",
              "      <td>0.0162585</td>\n",
              "      <td>0.00590426</td>\n",
              "      <td>0.00502491</td>\n",
              "      <td>0.00469364</td>\n",
              "      <td>0.00242774</td>\n",
              "      <td>1.87255e-05</td>\n",
              "      <td>1.87255e-05</td>\n",
              "    </tr>\n",
              "    <tr>\n",
              "      <th>rank_test_score</th>\n",
              "      <td>1</td>\n",
              "      <td>2</td>\n",
              "      <td>3</td>\n",
              "      <td>4</td>\n",
              "      <td>5</td>\n",
              "      <td>6</td>\n",
              "      <td>6</td>\n",
              "      <td>8</td>\n",
              "      <td>9</td>\n",
              "      <td>9</td>\n",
              "    </tr>\n",
              "    <tr>\n",
              "      <th>split0_train_score</th>\n",
              "      <td>0.704811</td>\n",
              "      <td>0.700928</td>\n",
              "      <td>0.705253</td>\n",
              "      <td>0.699949</td>\n",
              "      <td>0.598838</td>\n",
              "      <td>0.594671</td>\n",
              "      <td>0.595303</td>\n",
              "      <td>0.57914</td>\n",
              "      <td>0.54309</td>\n",
              "      <td>0.54309</td>\n",
              "    </tr>\n",
              "    <tr>\n",
              "      <th>split1_train_score</th>\n",
              "      <td>0.678861</td>\n",
              "      <td>0.668729</td>\n",
              "      <td>0.664973</td>\n",
              "      <td>0.663994</td>\n",
              "      <td>0.582115</td>\n",
              "      <td>0.578012</td>\n",
              "      <td>0.57817</td>\n",
              "      <td>0.57091</td>\n",
              "      <td>0.54307</td>\n",
              "      <td>0.54307</td>\n",
              "    </tr>\n",
              "    <tr>\n",
              "      <th>split2_train_score</th>\n",
              "      <td>0.682617</td>\n",
              "      <td>0.668066</td>\n",
              "      <td>0.668034</td>\n",
              "      <td>0.668034</td>\n",
              "      <td>0.585714</td>\n",
              "      <td>0.579085</td>\n",
              "      <td>0.580285</td>\n",
              "      <td>0.568858</td>\n",
              "      <td>0.54307</td>\n",
              "      <td>0.54307</td>\n",
              "    </tr>\n",
              "    <tr>\n",
              "      <th>mean_train_score</th>\n",
              "      <td>0.688763</td>\n",
              "      <td>0.679241</td>\n",
              "      <td>0.67942</td>\n",
              "      <td>0.677326</td>\n",
              "      <td>0.588889</td>\n",
              "      <td>0.583923</td>\n",
              "      <td>0.584586</td>\n",
              "      <td>0.572969</td>\n",
              "      <td>0.543077</td>\n",
              "      <td>0.543077</td>\n",
              "    </tr>\n",
              "    <tr>\n",
              "      <th>std_train_score</th>\n",
              "      <td>0.0114506</td>\n",
              "      <td>0.0153375</td>\n",
              "      <td>0.0183093</td>\n",
              "      <td>0.016082</td>\n",
              "      <td>0.00718682</td>\n",
              "      <td>0.00761294</td>\n",
              "      <td>0.00762706</td>\n",
              "      <td>0.00444296</td>\n",
              "      <td>9.36336e-06</td>\n",
              "      <td>9.36336e-06</td>\n",
              "    </tr>\n",
              "  </tbody>\n",
              "</table>\n",
              "</div>"
            ],
            "text/plain": [
              "                                                                                                    9  ...                                                  6\n",
              "mean_fit_time                                                                                 5.89822  ...                                            7.99429\n",
              "std_fit_time                                                                                  1.18842  ...                                          0.0157346\n",
              "mean_score_time                                                                              0.369586  ...                                           0.605027\n",
              "std_score_time                                                                               0.071645  ...                                          0.0112385\n",
              "param_randomforestclassifier__max_depth                                                            15  ...                                                 15\n",
              "param_randomforestclassifier__max_features                                                   0.372897  ...                                           0.438976\n",
              "param_randomforestclassifier__min_samples_leaf                                                    100  ...                                                  1\n",
              "param_randomforestclassifier__min_weight_fracti...                                                0.1  ...                                                0.5\n",
              "param_randomforestclassifier__n_estimators                                                         93  ...                                                295\n",
              "params                                              {'randomforestclassifier__max_depth': 15, 'ran...  ...  {'randomforestclassifier__max_depth': 15, 'ran...\n",
              "split0_test_score                                                                            0.704961  ...                                            0.54305\n",
              "split1_test_score                                                                            0.685397  ...                                            0.54309\n",
              "split2_test_score                                                                            0.679651  ...                                            0.54309\n",
              "mean_test_score                                                                              0.690004  ...                                           0.543077\n",
              "std_test_score                                                                              0.0108343  ...                                        1.87255e-05\n",
              "rank_test_score                                                                                     1  ...                                                  9\n",
              "split0_train_score                                                                           0.704811  ...                                            0.54309\n",
              "split1_train_score                                                                           0.678861  ...                                            0.54307\n",
              "split2_train_score                                                                           0.682617  ...                                            0.54307\n",
              "mean_train_score                                                                             0.688763  ...                                           0.543077\n",
              "std_train_score                                                                             0.0114506  ...                                        9.36336e-06\n",
              "\n",
              "[21 rows x 10 columns]"
            ]
          },
          "metadata": {
            "tags": []
          },
          "execution_count": 28
        }
      ]
    },
    {
      "cell_type": "code",
      "metadata": {
        "id": "aLwxeCofs0aW",
        "colab_type": "code",
        "colab": {
          "base_uri": "https://localhost:8080/",
          "height": 240
        },
        "outputId": "bf16f4ca-a6d0-4e8a-ec75-1ea90034881b"
      },
      "source": [
        "\n",
        "\n",
        "from sklearn.model_selection import GridSearchCV\n",
        "pipeline = make_pipeline(\n",
        "    ce.OrdinalEncoder(),\n",
        "    SimpleImputer(),\n",
        "    RandomForestClassifier(random_state=42)\n",
        ")\n",
        "\n",
        "param_grid = {\n",
        "    'randomforestclassifier__max_depth': [5, 10, 15, 20, 25, None],\n",
        "}\n",
        "\n",
        "\n",
        "\n",
        "grid_search = GridSearchCV(\n",
        "    pipeline,\n",
        "    param_grid = param_grid,\n",
        "    cv=6,\n",
        "    scoring='accuracy',\n",
        "    refit='AUC',\n",
        "    verbose=10,\n",
        "    return_train_score=True,\n",
        "    n_jobs=-1\n",
        ")\n",
        "\n",
        "grid_search.fit(X_train, y_train);"
      ],
      "execution_count": 55,
      "outputs": [
        {
          "output_type": "stream",
          "text": [
            "Fitting 6 folds for each of 6 candidates, totalling 36 fits\n"
          ],
          "name": "stdout"
        },
        {
          "output_type": "stream",
          "text": [
            "[Parallel(n_jobs=-1)]: Using backend LokyBackend with 2 concurrent workers.\n",
            "[Parallel(n_jobs=-1)]: Done   1 tasks      | elapsed:    2.9s\n",
            "[Parallel(n_jobs=-1)]: Done   4 tasks      | elapsed:    6.2s\n",
            "[Parallel(n_jobs=-1)]: Done   9 tasks      | elapsed:   15.7s\n",
            "[Parallel(n_jobs=-1)]: Done  14 tasks      | elapsed:   23.1s\n",
            "[Parallel(n_jobs=-1)]: Done  21 tasks      | elapsed:   38.3s\n",
            "[Parallel(n_jobs=-1)]: Done  28 tasks      | elapsed:   50.7s\n",
            "[Parallel(n_jobs=-1)]: Done  36 out of  36 | elapsed:  1.1min finished\n",
            "/usr/local/lib/python3.6/dist-packages/sklearn/ensemble/forest.py:245: FutureWarning: The default value of n_estimators will change from 10 in version 0.20 to 100 in 0.22.\n",
            "  \"10 in version 0.20 to 100 in 0.22.\", FutureWarning)\n"
          ],
          "name": "stderr"
        }
      ]
    },
    {
      "cell_type": "code",
      "metadata": {
        "id": "KCqslatLwVZc",
        "colab_type": "code",
        "colab": {
          "base_uri": "https://localhost:8080/",
          "height": 54
        },
        "outputId": "82734715-f5ea-4deb-e9be-e1d797ce49b6"
      },
      "source": [
        "print('Best hyperparameters', grid_search.best_params_)\n",
        "print('Cross-validation Accuracy', grid_search.best_score_)"
      ],
      "execution_count": 56,
      "outputs": [
        {
          "output_type": "stream",
          "text": [
            "Best hyperparameters {'randomforestclassifier__max_depth': 15}\n",
            "Cross-validation Accuracy 0.7916877104377105\n"
          ],
          "name": "stdout"
        }
      ]
    },
    {
      "cell_type": "code",
      "metadata": {
        "id": "TguK8aSswG5m",
        "colab_type": "code",
        "colab": {
          "base_uri": "https://localhost:8080/",
          "height": 222
        },
        "outputId": "a8f6dd48-cb01-4acc-8ab2-dad990f8c3c2"
      },
      "source": [
        "\n",
        "param_grid2 = {\n",
        "    'randomforestclassifier__min_samples_leaf': [1, 10, 100],\n",
        "}\n",
        "\n",
        "grid_search2 = GridSearchCV(\n",
        "    pipeline,\n",
        "    param_grid = param_grid2,\n",
        "    cv=10,\n",
        "    scoring='accuracy',\n",
        "    refit='AUC',\n",
        "    verbose=10,\n",
        "    return_train_score=True,\n",
        "    n_jobs=-1\n",
        ")\n",
        "\n",
        "grid_search2.fit(X_train, y_train);"
      ],
      "execution_count": 60,
      "outputs": [
        {
          "output_type": "stream",
          "text": [
            "Fitting 10 folds for each of 3 candidates, totalling 30 fits\n"
          ],
          "name": "stdout"
        },
        {
          "output_type": "stream",
          "text": [
            "[Parallel(n_jobs=-1)]: Using backend LokyBackend with 2 concurrent workers.\n",
            "[Parallel(n_jobs=-1)]: Done   1 tasks      | elapsed:    5.8s\n",
            "[Parallel(n_jobs=-1)]: Done   4 tasks      | elapsed:   10.5s\n",
            "[Parallel(n_jobs=-1)]: Done   9 tasks      | elapsed:   23.3s\n",
            "[Parallel(n_jobs=-1)]: Done  14 tasks      | elapsed:   31.5s\n",
            "[Parallel(n_jobs=-1)]: Done  21 tasks      | elapsed:   46.2s\n",
            "[Parallel(n_jobs=-1)]: Done  30 out of  30 | elapsed:  1.0min finished\n",
            "/usr/local/lib/python3.6/dist-packages/sklearn/ensemble/forest.py:245: FutureWarning: The default value of n_estimators will change from 10 in version 0.20 to 100 in 0.22.\n",
            "  \"10 in version 0.20 to 100 in 0.22.\", FutureWarning)\n"
          ],
          "name": "stderr"
        }
      ]
    },
    {
      "cell_type": "code",
      "metadata": {
        "id": "JaANsm9RwwDk",
        "colab_type": "code",
        "colab": {
          "base_uri": "https://localhost:8080/",
          "height": 54
        },
        "outputId": "309b67ed-a541-41db-b1a5-22c5dc212d6d"
      },
      "source": [
        "print('Best hyperparameters', grid_search2.best_params_)\n",
        "print('Cross-validation Accuracy', grid_search2.best_score_)"
      ],
      "execution_count": 61,
      "outputs": [
        {
          "output_type": "stream",
          "text": [
            "Best hyperparameters {'randomforestclassifier__min_samples_leaf': 1}\n",
            "Cross-validation Accuracy 0.7893308080808081\n"
          ],
          "name": "stdout"
        }
      ]
    },
    {
      "cell_type": "code",
      "metadata": {
        "id": "pmlq2LDdwIjf",
        "colab_type": "code",
        "colab": {
          "base_uri": "https://localhost:8080/",
          "height": 222
        },
        "outputId": "30f415a5-98ec-4afc-b930-d461df3a2051"
      },
      "source": [
        "\n",
        "param_grid3 = {\n",
        "    'randomforestclassifier__min_weight_fraction_leaf': [0.1, 0.3, 0.5]\n",
        "}\n",
        "\n",
        "\n",
        "\n",
        "grid_search3 = GridSearchCV(\n",
        "    pipeline,\n",
        "    param_grid = param_grid3,\n",
        "    cv=10,\n",
        "    scoring='accuracy',\n",
        "    refit='AUC',\n",
        "    verbose=10,\n",
        "    return_train_score=True,\n",
        "    n_jobs=-1\n",
        ")\n",
        "\n",
        "grid_search3.fit(X_train, y_train);\n"
      ],
      "execution_count": 62,
      "outputs": [
        {
          "output_type": "stream",
          "text": [
            "Fitting 10 folds for each of 3 candidates, totalling 30 fits\n"
          ],
          "name": "stdout"
        },
        {
          "output_type": "stream",
          "text": [
            "[Parallel(n_jobs=-1)]: Using backend LokyBackend with 2 concurrent workers.\n",
            "[Parallel(n_jobs=-1)]: Done   1 tasks      | elapsed:    3.0s\n",
            "[Parallel(n_jobs=-1)]: Done   4 tasks      | elapsed:    6.2s\n",
            "[Parallel(n_jobs=-1)]: Done   9 tasks      | elapsed:   14.7s\n",
            "[Parallel(n_jobs=-1)]: Done  14 tasks      | elapsed:   20.5s\n",
            "[Parallel(n_jobs=-1)]: Done  21 tasks      | elapsed:   31.1s\n",
            "[Parallel(n_jobs=-1)]: Done  30 out of  30 | elapsed:   42.1s finished\n",
            "/usr/local/lib/python3.6/dist-packages/sklearn/ensemble/forest.py:245: FutureWarning: The default value of n_estimators will change from 10 in version 0.20 to 100 in 0.22.\n",
            "  \"10 in version 0.20 to 100 in 0.22.\", FutureWarning)\n"
          ],
          "name": "stderr"
        }
      ]
    },
    {
      "cell_type": "code",
      "metadata": {
        "id": "Rtb0YbQ4w2lq",
        "colab_type": "code",
        "colab": {
          "base_uri": "https://localhost:8080/",
          "height": 54
        },
        "outputId": "d5d04068-f3cf-44af-9a18-3e00d896d0bd"
      },
      "source": [
        "print('Best hyperparameters', grid_search3.best_params_)\n",
        "print('Cross-validation Accuracy', grid_search3.best_score_)"
      ],
      "execution_count": 63,
      "outputs": [
        {
          "output_type": "stream",
          "text": [
            "Best hyperparameters {'randomforestclassifier__min_weight_fraction_leaf': 0.1}\n",
            "Cross-validation Accuracy 0.6828914141414142\n"
          ],
          "name": "stdout"
        }
      ]
    },
    {
      "cell_type": "code",
      "metadata": {
        "id": "SNvYT-QOxWhC",
        "colab_type": "code",
        "colab": {
          "base_uri": "https://localhost:8080/",
          "height": 425
        },
        "outputId": "cbc79460-a969-429e-bc26-7f1fb092023f"
      },
      "source": [
        "param_grid = {\n",
        "    'randomforestclassifier__max_depth': [5, 10, 15, 20, 25, None],\n",
        "    'randomforestclassifier__min_weight_fraction_leaf': [0.1, 0.3, 0.5],\n",
        "    'randomforestclassifier__min_samples_leaf': [1, 10, 100],\n",
        "}\n",
        "\n",
        "\n",
        "\n",
        "grid_search4 = GridSearchCV(\n",
        "    pipeline,\n",
        "    param_grid = param_grid,\n",
        "    cv=3,\n",
        "    scoring='accuracy',\n",
        "    refit='AUC',\n",
        "    verbose=10,\n",
        "    return_train_score=True,\n",
        "    n_jobs=-1\n",
        ")\n",
        "\n",
        "grid_search4.fit(X_train, y_train);"
      ],
      "execution_count": 64,
      "outputs": [
        {
          "output_type": "stream",
          "text": [
            "Fitting 3 folds for each of 54 candidates, totalling 162 fits\n"
          ],
          "name": "stdout"
        },
        {
          "output_type": "stream",
          "text": [
            "[Parallel(n_jobs=-1)]: Using backend LokyBackend with 2 concurrent workers.\n",
            "[Parallel(n_jobs=-1)]: Done   1 tasks      | elapsed:    2.6s\n",
            "[Parallel(n_jobs=-1)]: Done   4 tasks      | elapsed:    5.3s\n",
            "[Parallel(n_jobs=-1)]: Done   9 tasks      | elapsed:   12.0s\n",
            "[Parallel(n_jobs=-1)]: Done  14 tasks      | elapsed:   17.2s\n",
            "[Parallel(n_jobs=-1)]: Done  21 tasks      | elapsed:   26.8s\n",
            "[Parallel(n_jobs=-1)]: Done  28 tasks      | elapsed:   34.2s\n",
            "[Parallel(n_jobs=-1)]: Done  37 tasks      | elapsed:   45.8s\n",
            "[Parallel(n_jobs=-1)]: Done  46 tasks      | elapsed:   55.8s\n",
            "[Parallel(n_jobs=-1)]: Done  57 tasks      | elapsed:  1.2min\n",
            "[Parallel(n_jobs=-1)]: Done  68 tasks      | elapsed:  1.4min\n",
            "[Parallel(n_jobs=-1)]: Done  81 tasks      | elapsed:  1.6min\n",
            "[Parallel(n_jobs=-1)]: Done  94 tasks      | elapsed:  1.9min\n",
            "[Parallel(n_jobs=-1)]: Done 109 tasks      | elapsed:  2.2min\n",
            "[Parallel(n_jobs=-1)]: Done 124 tasks      | elapsed:  2.5min\n",
            "[Parallel(n_jobs=-1)]: Done 141 tasks      | elapsed:  2.9min\n",
            "[Parallel(n_jobs=-1)]: Done 158 tasks      | elapsed:  3.2min\n",
            "[Parallel(n_jobs=-1)]: Done 162 out of 162 | elapsed:  3.3min finished\n",
            "/usr/local/lib/python3.6/dist-packages/sklearn/ensemble/forest.py:245: FutureWarning: The default value of n_estimators will change from 10 in version 0.20 to 100 in 0.22.\n",
            "  \"10 in version 0.20 to 100 in 0.22.\", FutureWarning)\n"
          ],
          "name": "stderr"
        }
      ]
    },
    {
      "cell_type": "code",
      "metadata": {
        "id": "luEELJ51xytW",
        "colab_type": "code",
        "colab": {
          "base_uri": "https://localhost:8080/",
          "height": 74
        },
        "outputId": "a59ef293-80db-4f02-ff3e-c8c6de9ea9c4"
      },
      "source": [
        "print('Best hyperparameters', grid_search4.best_params_)\n",
        "print('Cross-validation Accuracy', grid_search4.best_score_)"
      ],
      "execution_count": 65,
      "outputs": [
        {
          "output_type": "stream",
          "text": [
            "Best hyperparameters {'randomforestclassifier__max_depth': 10, 'randomforestclassifier__min_samples_leaf': 1, 'randomforestclassifier__min_weight_fraction_leaf': 0.1}\n",
            "Cross-validation Accuracy 0.6856481481481481\n"
          ],
          "name": "stdout"
        }
      ]
    },
    {
      "cell_type": "code",
      "metadata": {
        "id": "IBULEpWJsLC5",
        "colab_type": "code",
        "colab": {}
      },
      "source": [
        "random_best = search.best_estimator_\n",
        "random_index = search.best_index_\n",
        "random_y_pred = best.predict(X_val)"
      ],
      "execution_count": 0,
      "outputs": []
    },
    {
      "cell_type": "code",
      "metadata": {
        "id": "LvrMnZ3MzTQV",
        "colab_type": "code",
        "colab": {
          "base_uri": "https://localhost:8080/",
          "height": 35
        },
        "outputId": "b58866ec-f3cc-4eea-840e-4f962ba9f7d9"
      },
      "source": [
        "search.score(X_val, y_val)"
      ],
      "execution_count": 70,
      "outputs": [
        {
          "output_type": "execute_result",
          "data": {
            "text/plain": [
              "0.6840909090909091"
            ]
          },
          "metadata": {
            "tags": []
          },
          "execution_count": 70
        }
      ]
    },
    {
      "cell_type": "code",
      "metadata": {
        "id": "mAfJeni3seAW",
        "colab_type": "code",
        "colab": {
          "base_uri": "https://localhost:8080/",
          "height": 35
        },
        "outputId": "b8fc71e9-5077-45ac-f208-e6737381baf5"
      },
      "source": [
        "grid_search4.score(X_val, y_val)"
      ],
      "execution_count": 71,
      "outputs": [
        {
          "output_type": "execute_result",
          "data": {
            "text/plain": [
              "0.6824915824915825"
            ]
          },
          "metadata": {
            "tags": []
          },
          "execution_count": 71
        }
      ]
    }
  ]
}